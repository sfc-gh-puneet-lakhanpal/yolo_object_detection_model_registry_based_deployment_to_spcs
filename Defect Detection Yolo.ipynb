{
 "metadata": {
  "kernelspec": {
   "display_name": "Streamlit Notebook",
   "name": "streamlit"
  },
  "lastEditStatus": {
   "notebookId": "ifwrk3xcl4edrbuvby6g",
   "authorId": "233194668061",
   "authorName": "PLAKHANPAL",
   "authorEmail": "Puneet.Lakhanpal@Snowflake.com",
   "sessionId": "a8b4ea58-1880-4c11-9a71-0aa186ceaf1a",
   "lastEditTime": 1743698975249
  }
 },
 "nbformat_minor": 5,
 "nbformat": 4,
 "cells": [
  {
   "cell_type": "markdown",
   "id": "c34c288f-449a-4848-9538-f7008d295bde",
   "metadata": {
    "name": "intro_notebook",
    "collapsed": false
   },
   "source": "# Defect detection using Yolo and model deployment into SPCS using model registry"
  },
  {
   "cell_type": "markdown",
   "id": "2f0faa9c-1486-4a4a-ab52-2b3b3fdd85f6",
   "metadata": {
    "name": "intro_import_packages",
    "collapsed": false
   },
   "source": "## Import packages"
  },
  {
   "cell_type": "code",
   "id": "3775908f-ca36-4846-8f38-5adca39217f2",
   "metadata": {
    "language": "python",
    "name": "import_packages"
   },
   "source": "# Import python packages\nimport streamlit as st\nimport pandas as pd\nimport shutil\nimport gc\nfrom snowflake.ml.model.custom_model import ModelContext, CustomModel, inference_api\nfrom typing import List, Dict\nfrom snowflake.ml.model import model_signature\nfrom snowflake.ml.registry import Registry\nimport requests\n# We can also use Snowpark for our analyses!\nfrom snowflake.snowpark.context import get_active_session\nsession = get_active_session()",
   "execution_count": null,
   "outputs": []
  },
  {
   "cell_type": "code",
   "id": "c3c0b631-2897-454c-9a4f-a48b9d928b60",
   "metadata": {
    "language": "python",
    "name": "install_ultralytics",
    "codeCollapsed": false
   },
   "outputs": [],
   "source": "! pip install ultralytics snowflake-ml-python==1.7.5",
   "execution_count": null
  },
  {
   "cell_type": "code",
   "id": "b74dd66e-b6da-4fb5-9266-4484e01e1004",
   "metadata": {
    "language": "python",
    "name": "import_yolo",
    "codeCollapsed": false
   },
   "outputs": [],
   "source": "from ultralytics import YOLO",
   "execution_count": null
  },
  {
   "cell_type": "code",
   "id": "6c001603-1c75-431c-a012-da74f87093a6",
   "metadata": {
    "language": "python",
    "name": "vars",
    "codeCollapsed": false
   },
   "outputs": [],
   "source": "current_database = session.get_current_database().replace('\"', '')\ncurrent_schema = session.get_current_schema().replace('\"', '')\nimage_repo_name = f\"{current_database}.{current_schema}.IMAGE_REPO_1210\"\nnum_spcs_nodes = '3'\nspcs_instance_family = 'GPU_NV_S'\nmodel_name = \"YOLO_TRAINED_MODEL\"\nservice_name_without_namespace = 'YOLO_DEFECT_DETECTION_INFERENCE_SERVICE'\ncp_name = \"YOLO_DEFECT_DETECTION_INFERENCE_CP\"\nservice_name = f'{current_database}.{current_schema}.{service_name_without_namespace}'\nprint(f\"Database: {current_database}, schema: {current_schema}\")\nprint(f\"Service: {service_name}\")\nprint(f\"Model name: {model_name}\")",
   "execution_count": null
  },
  {
   "cell_type": "code",
   "id": "74270f1c-194b-4f62-b5e0-302b9afd1070",
   "metadata": {
    "language": "python",
    "name": "remove_dir_tree",
    "codeCollapsed": false
   },
   "outputs": [],
   "source": "try:\n    shutil.rmtree('/home/app/yoloruns')\nexcept:\n    pass",
   "execution_count": null
  },
  {
   "cell_type": "code",
   "id": "664dda49-dd01-4eab-91ca-78676c924051",
   "metadata": {
    "language": "python",
    "name": "set_yolo_settings",
    "codeCollapsed": false
   },
   "outputs": [],
   "source": "!mkdir -p /home/app/yoloruns\n!yolo settings runs_dir=/home/app/yoloruns",
   "execution_count": null
  },
  {
   "cell_type": "markdown",
   "id": "2566d846-ac9b-4f8d-a147-364d4575059a",
   "metadata": {
    "name": "intro_start_training",
    "collapsed": false
   },
   "source": "## Start training"
  },
  {
   "cell_type": "code",
   "id": "7c26b944-cb06-4dcb-8b41-a856923c9eaa",
   "metadata": {
    "language": "python",
    "name": "start_yolo_training"
   },
   "outputs": [],
   "source": "# Train yolo11n on VOC for 2 epochs\n!yolo train model=yolo11n.pt data=VOC.yaml epochs=2 imgsz=640 batch=32 device=0",
   "execution_count": null
  },
  {
   "cell_type": "markdown",
   "id": "d76eba82-07c9-4dbd-9494-807f7383eaf5",
   "metadata": {
    "name": "intro_validation",
    "collapsed": false
   },
   "source": "## Validation\nAfter training our model, we can validate it on the validation set of our dataset."
  },
  {
   "cell_type": "code",
   "id": "f7367abd-dcf1-4ab5-a4cd-7b8365052e83",
   "metadata": {
    "language": "python",
    "name": "run_validation"
   },
   "outputs": [],
   "source": "!yolo val model=/home/app/yoloruns/detect/train/weights/best.pt data=VOC.yaml",
   "execution_count": null
  },
  {
   "cell_type": "markdown",
   "id": "30d3d6ec-10b3-432e-a3ff-cd9637834d20",
   "metadata": {
    "name": "intro_inferencing",
    "collapsed": false
   },
   "source": "## Inference on files in S3"
  },
  {
   "cell_type": "code",
   "id": "2d02e0bb-890c-43db-976f-8fbe3f412ba4",
   "metadata": {
    "language": "sql",
    "name": "see_files_in_s3"
   },
   "outputs": [],
   "source": "alter stage modelregistrytospcsyolo_s3stage refresh;\nls @modelregistrytospcsyolo_s3stage/",
   "execution_count": null
  },
  {
   "cell_type": "code",
   "id": "b86dd178-fda1-457b-ae44-629a78b81656",
   "metadata": {
    "language": "sql",
    "name": "create_table_presigned_urls",
    "codeCollapsed": false
   },
   "outputs": [],
   "source": "create or replace table modelregistrytospcsyolo_presignedurls as\nSELECT\n   relative_path,\n   last_modified,\n   get_presigned_url(@modelregistrytospcsyolo_s3stage, relative_path, 3600) AS presigned_url\n  FROM\n    directory(@modelregistrytospcsyolo_s3stage);",
   "execution_count": null
  },
  {
   "cell_type": "code",
   "id": "6b17a3d1-74ff-4404-8662-15eac8ddb391",
   "metadata": {
    "language": "python",
    "name": "get_presigned_urls",
    "codeCollapsed": false
   },
   "outputs": [],
   "source": "presigned_urls_snowdf = session.table(\"modelregistrytospcsyolo_presignedurls\")\npresigned_urls_pdf = presigned_urls_snowdf.to_pandas()",
   "execution_count": null
  },
  {
   "cell_type": "code",
   "id": "1a290e70-64e2-453c-8dde-a17eac29ed6c",
   "metadata": {
    "language": "python",
    "name": "see_presigned_urls",
    "codeCollapsed": false
   },
   "outputs": [],
   "source": "presigned_urls_pdf.head()",
   "execution_count": null
  },
  {
   "cell_type": "code",
   "id": "f48d75a6-ed44-4826-be40-ca2c20997b83",
   "metadata": {
    "language": "python",
    "name": "input_image_for_inferencing",
    "codeCollapsed": false
   },
   "outputs": [],
   "source": "st.image(presigned_urls_pdf[\"PRESIGNED_URL\"].tolist()[0], caption=\"Input\")",
   "execution_count": null
  },
  {
   "cell_type": "markdown",
   "id": "f93ba4d3-a04d-41ad-ab70-04df2a56eb42",
   "metadata": {
    "name": "intro_define_custom_model",
    "collapsed": false
   },
   "source": "## Define custom model to log into model registry"
  },
  {
   "cell_type": "code",
   "id": "c1c8243f-a284-4ade-8672-12bd3ddcea6a",
   "metadata": {
    "language": "python",
    "name": "custom_model_register_into_model_registry",
    "codeCollapsed": false
   },
   "outputs": [],
   "source": "from pathlib import Path\nimport multiprocessing as mp\nclass DownloadError(Exception):\n    \"\"\"Custom exception for download errors\"\"\"\n    pass\n\nclass YoloModel(CustomModel):\n    def __init__(self, context: ModelContext) -> None:\n        super().__init__(context)\n        context_path = self.context.path(\"model_dir\")\n        self.model = YOLO(f\"{context_path}/best.pt\")\n        self.output_dir = \"/tmp/images/\"\n        self.max_workers = mp.cpu_count() * 2\n    def download_file(self, url, output_dir):\n        try:\n            filename = url.split(\"/\")[-1].split(\"?\")[0]\n            local_path = output_dir / filename\n            response = requests.get(url)\n            if response.status_code == 403:\n                raise DownloadError(f\"Access forbidden (403) for URL: {url}\")\n            response.raise_for_status()\n            with open(local_path, mode=\"wb\") as file:\n                file.write(response.content)\n            return url, local_path\n        except requests.exceptions.RequestException as e:\n            raise DownloadError(f\"Failed to download {url}: {str(e)}\")\n        except Exception as e:\n            raise DownloadError(f\"Error processing {url}: {str(e)}\") \n    def download_files_in_parallel(self, urls, max_workers=5) -> None:\n        output_path = Path(self.output_dir)\n        output_path.mkdir(parents=True, exist_ok=True)\n        failed_exceptions = []\n        from concurrent.futures import ThreadPoolExecutor, as_completed\n        with ThreadPoolExecutor(max_workers=max_workers) as executor:\n            future_to_url = {\n                executor.submit(self.download_file, url, output_path): url \n                for url in urls\n            }\n            for future in as_completed(future_to_url):\n                url = future_to_url[future]\n                try:\n                    url, local_path = future.result()\n                except DownloadError as e:\n                    failed_exceptions.append(str(e))\n        if failed_exceptions:\n            for exception_message in failed_exceptions:\n                raise DownloadError(str(exception_message))\n    \n    def perform_object_detection(self) -> List[List[Dict]]:\n        results = self.model(self.output_dir, stream=True)\n        json_results = []\n        for result in results:\n            js = result.to_json()\n            json_results.append(js)\n        return json_results\n    @inference_api\n    def predict(self, input_pdf: pd.DataFrame) -> pd.DataFrame:\n        urls = input_pdf[\"PRESIGNED_URL\"].tolist()\n        _ = self.download_files_in_parallel(urls=urls, max_workers=self.max_workers)\n        results = self.perform_object_detection()\n        input_pdf['RESULT'] = results\n        return input_pdf",
   "execution_count": null
  },
  {
   "cell_type": "code",
   "id": "ff5e1a94-9c5e-43da-b799-18568db11744",
   "metadata": {
    "language": "python",
    "name": "get_custom_model",
    "codeCollapsed": false
   },
   "outputs": [],
   "source": "yolo_mc = ModelContext(\n\tmodels={ # This should be for models that is supported by Model Registry\n\t},\n\tartifacts={ # Everything not supported needs to be here\n\t\t'model_dir': \"/home/app/yoloruns/detect/train/weights\"\n\t}\n)\nyolo_model = YoloModel(yolo_mc)",
   "execution_count": null
  },
  {
   "cell_type": "code",
   "id": "9b9f1173-414f-4933-9a1e-92ecaa8a59ed",
   "metadata": {
    "language": "python",
    "name": "get_model_signature",
    "codeCollapsed": false
   },
   "outputs": [],
   "source": "input_pdf = presigned_urls_pdf['PRESIGNED_URL'].to_frame()\noutput_pdf = yolo_model.predict(input_pdf.copy())\npredict_sign = model_signature.infer_signature(input_data=input_pdf, output_data=output_pdf)\noutput_pdf.head()",
   "execution_count": null
  },
  {
   "cell_type": "code",
   "id": "2fc3d918-4b8e-4731-8b91-23846b38b90f",
   "metadata": {
    "language": "python",
    "name": "print_prediction_signature",
    "codeCollapsed": false
   },
   "outputs": [],
   "source": "predict_sign",
   "execution_count": null
  },
  {
   "cell_type": "code",
   "id": "a7b95919-9355-424c-8930-d067ac9a565d",
   "metadata": {
    "language": "python",
    "name": "check_cuda_version",
    "codeCollapsed": false
   },
   "outputs": [],
   "source": "!nvidia-smi ",
   "execution_count": null
  },
  {
   "cell_type": "code",
   "id": "588193ed-4461-4795-9c14-ce42071bdce0",
   "metadata": {
    "language": "python",
    "name": "instantiate_registry",
    "codeCollapsed": false
   },
   "outputs": [],
   "source": "native_registry = Registry(session=session)",
   "execution_count": null
  },
  {
   "cell_type": "code",
   "id": "1019930d-7ae9-4d90-a24d-0c5b1acc8225",
   "metadata": {
    "language": "python",
    "name": "log_to_model_registry",
    "codeCollapsed": false
   },
   "outputs": [],
   "source": "mv = native_registry.log_model(\n    yolo_model,\n    model_name=model_name,\n    conda_dependencies=[\"conda-forge::ultralytics\", \"conda-forge::pytorch\", \"conda-forge::torchvision\"],\n    signatures={\n        \"predict\": predict_sign\n    },\n    options={\"cuda_version\": \"12.4\"}\n)",
   "execution_count": null
  },
  {
   "cell_type": "markdown",
   "id": "6e1c8328-6261-407d-9bd2-fbf50d310aea",
   "metadata": {
    "name": "intro_see_model_versions",
    "collapsed": false
   },
   "source": "### See all model versions in model registry"
  },
  {
   "cell_type": "code",
   "id": "47d6a729-dec3-43a2-b9bd-931e2573d00a",
   "metadata": {
    "language": "python",
    "name": "see_all_model_versions",
    "codeCollapsed": false
   },
   "outputs": [],
   "source": "m = native_registry.get_model(model_name)\nversion_df = m.show_versions()\nversion_df.head(100)",
   "execution_count": null
  },
  {
   "cell_type": "code",
   "id": "a9c8e150-8807-413e-ab46-c4a8caec893d",
   "metadata": {
    "language": "python",
    "name": "pick_latest_model",
    "codeCollapsed": false
   },
   "outputs": [],
   "source": "last_version_name = version_df['name'].iloc[-1]\nprint(last_version_name)\nlv = m.version(last_version_name)",
   "execution_count": null
  },
  {
   "cell_type": "markdown",
   "id": "edd21a91-a389-416c-bfde-60555ba2f1af",
   "metadata": {
    "name": "intro_deploy_model_on_spcs",
    "collapsed": false
   },
   "source": "### Deploy the model on SPCS for inference"
  },
  {
   "cell_type": "code",
   "id": "41887d50-d86c-482d-8639-b24e87cc266d",
   "metadata": {
    "language": "python",
    "name": "stop_all_running_services",
    "codeCollapsed": false
   },
   "outputs": [],
   "source": "session.sql(f\"alter compute pool if exists {cp_name} stop all\").collect()",
   "execution_count": null
  },
  {
   "cell_type": "code",
   "id": "037561f6-0b2e-4efe-ab3f-9034d9c16e4d",
   "metadata": {
    "language": "python",
    "name": "create_new_compute_pool",
    "codeCollapsed": false
   },
   "outputs": [],
   "source": "session.sql(f\"drop compute pool if exists {cp_name}\").collect()\nsession.sql(f\"create compute pool {cp_name} min_nodes={num_spcs_nodes} max_nodes={num_spcs_nodes} instance_family={spcs_instance_family} auto_resume=True auto_suspend_secs=300\").collect()",
   "execution_count": null
  },
  {
   "cell_type": "code",
   "id": "34fb9678-4054-4ddf-9189-1a07c107715d",
   "metadata": {
    "language": "python",
    "name": "see_compute_pool",
    "codeCollapsed": false
   },
   "outputs": [],
   "source": "session.sql(f\"show compute pools like '{cp_name}'\").show()",
   "execution_count": null
  },
  {
   "cell_type": "code",
   "id": "19b1d533-7d63-4862-8c35-c9e02ba6969f",
   "metadata": {
    "language": "python",
    "name": "create_image_repo",
    "codeCollapsed": false
   },
   "outputs": [],
   "source": "session.sql(f\"create or replace image repository {image_repo_name}\").collect()",
   "execution_count": null
  },
  {
   "cell_type": "code",
   "id": "d565fa4b-d282-4bbb-bb37-bed044593435",
   "metadata": {
    "language": "python",
    "name": "drop_service_if_exists",
    "codeCollapsed": false
   },
   "outputs": [],
   "source": "session.sql(f\"drop service if exists {service_name}\").collect()",
   "execution_count": null
  },
  {
   "cell_type": "code",
   "id": "cf58c1dc-d93f-4878-ba40-d50d8d38fa49",
   "metadata": {
    "language": "python",
    "name": "deploy_service_on_spcs",
    "codeCollapsed": false
   },
   "outputs": [],
   "source": "lv.create_service(service_name=service_name,\n                  service_compute_pool=cp_name,\n                  image_repo=image_repo_name,\n                  max_instances=int(num_spcs_nodes),\n                  gpu_requests=\"1\",\n                  ingress_enabled=True)",
   "execution_count": null
  },
  {
   "cell_type": "markdown",
   "id": "23a9cb19-8da5-499a-9cab-beba4e7d4791",
   "metadata": {
    "name": "intro_perform_inferencing",
    "collapsed": false
   },
   "source": "### Set up external network access for inferencing"
  },
  {
   "cell_type": "code",
   "id": "91b30f2d-b7ab-4b4c-9c13-6f68f09a7ed6",
   "metadata": {
    "language": "python",
    "name": "list_services",
    "codeCollapsed": false
   },
   "outputs": [],
   "source": "lv.list_services()",
   "execution_count": null
  },
  {
   "cell_type": "code",
   "id": "11764616-f60a-41e4-902f-6024e3cdaa99",
   "metadata": {
    "language": "sql",
    "name": "describe_network_rule",
    "codeCollapsed": false
   },
   "outputs": [],
   "source": "describe network rule NR_ALLOW_S3_ACCESS_TO_DOWNLOAD_IMAGES",
   "execution_count": null
  },
  {
   "cell_type": "code",
   "id": "412fb868-a81a-49bc-91f8-6d4c7194c1fe",
   "metadata": {
    "language": "sql",
    "name": "describe_eai"
   },
   "outputs": [],
   "source": "describe external access integration EAI_ALLOW_S3_ACCESS_TO_DOWNLOAD_IMAGES",
   "execution_count": null
  },
  {
   "cell_type": "code",
   "id": "e4e8c669-a4fa-428d-b6a5-ba7b87f5684d",
   "metadata": {
    "language": "sql",
    "name": "alter_service_and_enable_external_access"
   },
   "outputs": [],
   "source": "alter service YOLO_DEFECT_DETECTION_INFERENCE_SERVICE set EXTERNAL_ACCESS_INTEGRATIONS = (EAI_ALLOW_S3_ACCESS_TO_DOWNLOAD_IMAGES);",
   "execution_count": null
  },
  {
   "cell_type": "markdown",
   "id": "08544490-2dc4-4163-a9e6-43d03adf57f9",
   "metadata": {
    "name": "intro_setup_test_data_for_inferencing",
    "collapsed": false
   },
   "source": "### Setup test data for inferencing"
  },
  {
   "cell_type": "code",
   "id": "21b5d751-f3f1-4d46-a9a3-597f63bca849",
   "metadata": {
    "language": "sql",
    "name": "input_data_for_inferencing",
    "codeCollapsed": false
   },
   "outputs": [],
   "source": "create or replace table modelregistrytospcsyolo_presignedurls as\nSELECT\n   relative_path,\n   last_modified,\n   get_presigned_url(@modelregistrytospcsyolo_s3stage, relative_path, 3600) AS presigned_url\n  FROM\n    directory(@modelregistrytospcsyolo_s3stage);",
   "execution_count": null
  },
  {
   "cell_type": "code",
   "id": "4b802d4f-dc10-475d-a7d1-0dd643e1aaa9",
   "metadata": {
    "language": "python",
    "name": "see_input_data",
    "codeCollapsed": false
   },
   "outputs": [],
   "source": "input_data_for_inferencing_snowdf = session.table(\"modelregistrytospcsyolo_presignedurls\").select(\"PRESIGNED_URL\")\ninput_data_for_inferencing_snowdf.show()",
   "execution_count": null
  },
  {
   "cell_type": "markdown",
   "id": "b4fd13da-d5d6-48bd-8ae4-c59a153c8ab2",
   "metadata": {
    "name": "intro_batch_inferencing",
    "collapsed": false
   },
   "source": "### Batch inferencing"
  },
  {
   "cell_type": "code",
   "id": "94ea4ce5-55c9-4707-934a-d47d8b6e6614",
   "metadata": {
    "language": "python",
    "name": "perform_batch_inferencing"
   },
   "outputs": [],
   "source": "defect_predictions_snowdf = lv.run(input_data_for_inferencing_snowdf,function_name=\"PREDICT\",service_name='YOLO_DEFECT_DETECTION_INFERENCE_SERVICE')\ndefect_predictions_snowdf.show()",
   "execution_count": null
  },
  {
   "cell_type": "markdown",
   "id": "509c6342-3629-480b-b3b4-835da3f047cd",
   "metadata": {
    "name": "intro_rest_api_inferencing",
    "collapsed": false
   },
   "source": "### REST API inferencing"
  },
  {
   "cell_type": "code",
   "id": "ce6fb220-3065-483b-a097-133b712c8258",
   "metadata": {
    "language": "python",
    "name": "vars_for_rest_api_inferencing",
    "codeCollapsed": false
   },
   "outputs": [],
   "source": "test_url = input_data_for_inferencing_snowdf.limit(1).to_pandas()['PRESIGNED_URL'][0]\ndata = {'data': [[0, test_url]]}\nprint(data)",
   "execution_count": null
  },
  {
   "cell_type": "markdown",
   "id": "2ecfcb9a-352e-4f0b-bf70-c77981749146",
   "metadata": {
    "name": "intro_call_rest_api",
    "collapsed": false
   },
   "source": "### Now call the REST API externally using JWT technique"
  }
 ]
}